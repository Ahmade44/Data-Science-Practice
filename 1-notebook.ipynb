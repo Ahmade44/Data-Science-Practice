{
 "cells": [
  {
   "cell_type": "code",
   "execution_count": null,
   "id": "902e9211-6d01-4c28-a1e2-4fc6870328cf",
   "metadata": {},
   "outputs": [],
   "source": [
    "# Data Science Tools and Examples\n"
   ]
  },
  {
   "cell_type": "code",
   "execution_count": null,
   "id": "80eece81-d4d8-4bb7-ad69-55bf1a5eaae0",
   "metadata": {},
   "outputs": [],
   "source": [
    "## Introduction\n",
    "This notebook provides an overview of data science tools, libraries, and examples of basic arithmetic operations using Python.\n"
   ]
  },
  {
   "cell_type": "code",
   "execution_count": null,
   "id": "dd781ef6-bcf7-45da-b143-edb5757affa4",
   "metadata": {},
   "outputs": [],
   "source": [
    "## Data Science Languages\n",
    "1. Python\n",
    "2. R\n",
    "3. SQL\n",
    "4. Java\n",
    "5. Julia\n"
   ]
  },
  {
   "cell_type": "code",
   "execution_count": null,
   "id": "c52ec0d8-c493-414b-acab-3ae27064db31",
   "metadata": {},
   "outputs": [],
   "source": [
    "## Data Science Libraries\n",
    "1. Pandas\n",
    "2. NumPy\n",
    "3. Matplotlib\n",
    "4. SciKit-Learn\n",
    "5. TensorFlow\n"
   ]
  },
  {
   "cell_type": "code",
   "execution_count": null,
   "id": "71e21535-a7d9-4b75-9e19-31e1e5523490",
   "metadata": {},
   "outputs": [],
   "source": [
    "## Data Science Tools\n",
    "| Tool              | Purpose                     |\n",
    "|-------------------|-----------------------------|\n",
    "| Jupyter Notebook   | Interactive computing       |\n",
    "| RStudio            | Data analysis with R        |\n",
    "| Apache Hadoop      | Big data processing         |\n",
    "| Tableau            | Data visualization          |\n"
   ]
  },
  {
   "cell_type": "code",
   "execution_count": null,
   "id": "4db1fc94-56c1-4c59-90c7-e6befd7f73b6",
   "metadata": {},
   "outputs": [],
   "source": [
    "# Multiplication and addition example\n",
    "a = 5\n",
    "b = 10\n",
    "result = (a * b) + 20\n",
    "result\n"
   ]
  },
  {
   "cell_type": "code",
   "execution_count": null,
   "id": "3eafa810-bd8a-49ee-b486-cb66c66f0f35",
   "metadata": {},
   "outputs": [],
   "source": [
    "# Convert minutes to hours\n",
    "minutes = 120\n",
    "hours = minutes / 60\n",
    "hours\n"
   ]
  },
  {
   "cell_type": "code",
   "execution_count": null,
   "id": "e5e6f907-6f03-4c25-8ff7-bce0fd948ad8",
   "metadata": {},
   "outputs": [],
   "source": [
    "## Objectives\n",
    "- List common data science languages\n",
    "- Provide examples of basic arithmetic operations\n",
    "- Demonstrate the use of Markdown and code cells\n"
   ]
  },
  {
   "cell_type": "code",
   "execution_count": null,
   "id": "382924cc-fb29-46d1-8fd0-3e3b6c2ce584",
   "metadata": {},
   "outputs": [],
   "source": [
    "## Author\n",
    "Ahmad Jawad Romal\n"
   ]
  }
 ],
 "metadata": {
  "kernelspec": {
   "display_name": "Python 3 (ipykernel)",
   "language": "python",
   "name": "python3"
  },
  "language_info": {
   "codemirror_mode": {
    "name": "ipython",
    "version": 3
   },
   "file_extension": ".py",
   "mimetype": "text/x-python",
   "name": "python",
   "nbconvert_exporter": "python",
   "pygments_lexer": "ipython3",
   "version": "3.12.3"
  }
 },
 "nbformat": 4,
 "nbformat_minor": 5
}
